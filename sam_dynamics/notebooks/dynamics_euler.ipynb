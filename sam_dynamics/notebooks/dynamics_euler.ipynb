{
 "cells": [
  {
   "cell_type": "code",
   "execution_count": 1,
   "metadata": {},
   "outputs": [],
   "source": [
    "from sympy import *\n",
    "init_printing()"
   ]
  },
  {
   "cell_type": "code",
   "execution_count": 2,
   "metadata": {},
   "outputs": [],
   "source": [
    "def skew(l):\n",
    "    l1, l2, l3 = l\n",
    "    return Matrix([\n",
    "        [0, -l3, l2],\n",
    "        [l3, 0, -l1],\n",
    "        [-l2, l1, 0]\n",
    "    ])"
   ]
  },
  {
   "cell_type": "code",
   "execution_count": 3,
   "metadata": {},
   "outputs": [],
   "source": [
    "# define state variables\n",
    "x, y, z, phi, theta, psi, u, v, w, p, q, r = symbols('x y z phi theta psi u v w p q r', real=True)\n",
    "s = Matrix([x, y, z, phi, theta, psi, u, v, w, p, q, r])\n",
    "\n",
    "# position and orientation\n",
    "eta = Matrix([x, y, z, phi, theta, psi])\n",
    "nu = Matrix([u, v, w, p, q, r])\n",
    "\n",
    "# centre of gravity\n",
    "xg, yg, zg = symbols('xg yg zg', real=True)\n",
    "rg = Matrix([xg, yg, zg])\n",
    "\n",
    "# centre of bouyancy\n",
    "xb, yb, zb = symbols('xb yb zb', real=True)\n",
    "rb = Matrix([xb, yb, zb])\n",
    "\n",
    "# center of pressure\n",
    "xcp, ycp, zcp = symbols('xcp ycp zcp', real=True)\n",
    "rcp = Matrix([xcp, ycp, zcp])\n",
    "\n",
    "# mass matrix\n",
    "m = symbols('m', real=True, positive=True)\n",
    "Ixx, Iyy, Izz = symbols('Ixx Iyy Izz')\n",
    "I0 = diag(Ixx, Iyy, Izz)\n",
    "M = BlockMatrix([\n",
    "    [m*eye(3), -m*skew(rg)],\n",
    "    [m*skew(rg), I0]\n",
    "])\n",
    "M = Matrix(M)\n",
    "# M = simplify(M)\n",
    "\n",
    "# Coriolis and centripetal matrix\n",
    "nu1 = Matrix([u, v, w])\n",
    "nu2 = Matrix([p, q, r])\n",
    "crb = BlockMatrix([\n",
    "    [zeros(3), -m*skew(nu1)-m*skew(nu2)*skew(rg)],\n",
    "    [-m*skew(nu1)+m*skew(rg)*skew(nu2), -skew(I0*nu2)]\n",
    "])\n",
    "crb = Matrix(crb)\n",
    "# crb = simplify(crb)\n",
    "\n",
    "# damping matrix\n",
    "Xuu, Yvv, Zww, Kpp, Mqq, Nrr = symbols(\n",
    "    'Xuu Yvv Zww Kpp Mqq Nrr', real=True\n",
    ")\n",
    "D = Matrix([\n",
    "    [Xuu*abs(u), 0, 0, 0, 0, 0],\n",
    "    [0, Yvv*abs(v), 0, 0, 0, 0],\n",
    "    [0, 0, Zww*abs(w), 0, 0, 0],\n",
    "    [0, -zcp*Yvv*abs(v), ycp*Zww*abs(w), Kpp*abs(p), 0, 0],\n",
    "    [zcp*Xuu*abs(u), 0, -xcp*Zww*abs(w), 0, Mqq*abs(q), 0],\n",
    "    [-ycp*Xuu*abs(u), xcp*Yvv*abs(v), 0, 0, 0, Nrr*abs(r)]\n",
    "])\n",
    "\n",
    "# rotational transform between body and NED quaternions\n",
    "# Tq = Rational(1,2)*Matrix([\n",
    "#     [-eps1, -eps2, -eps3],\n",
    "#     [eta0, -eps3, eps2],\n",
    "#     [eps3, eta0, -eps1],\n",
    "#     [-eps2, eps1, eta0]\n",
    "# ])\n",
    "T_euler = Matrix([\n",
    "    [1, sin(phi)*tan(theta), cos(phi)*tan(theta)],\n",
    "    [0, cos(phi), -sin(phi)],\n",
    "    [0, sin(phi)/cos(theta), cos(phi)/cos(theta)]\n",
    "])\n",
    " \n",
    "\n",
    "# Rq = Matrix([\n",
    "#     [1-2*(eps2**2+eps3**2), 2*(eps1*eps2-eps3*eta0), 2*(eps1*eps3+eps2*eta0)],\n",
    "#     [2*(eps1*eps2+eps3*eta0), 1-2*(eps1**2+eps3**2), 2*(eps2*eps3-eps1*eta0)],\n",
    "#     [2*(eps1*eps3-eps2*eta0), 2*(eps2*eps3+eps1*eta0), 1-2*(eps1**2+eps2**2)]\n",
    "# ])\n",
    "R_euler = Matrix([\n",
    "    [cos(psi)*cos(theta), -sin(psi)*cos(phi)+cos(psi)*sin(theta)*sin(phi), sin(psi)*sin(phi)+cos(psi)*cos(phi)*sin(theta)],\n",
    "    [sin(psi)*cos(theta), cos(psi)*cos(phi)+sin(phi)*sin(theta)*sin(psi), -cos(psi)*sin(phi)+sin(theta)*sin(psi)*cos(phi)],\n",
    "    [-sin(theta), cos(theta)*sin(phi), cos(theta)*cos(phi)]\n",
    "])\n",
    "\n",
    "\n",
    "# Jeta = BlockMatrix([\n",
    "#     [Rq, zeros(3)],\n",
    "#     [zeros(4,3), Tq]\n",
    "# ])\n",
    "Jeta = BlockMatrix([\n",
    "    [R_euler, zeros(3)],\n",
    "    [zeros(3), T_euler]\n",
    "])\n",
    "\n",
    "\n",
    "Jeta = Matrix(Jeta)\n",
    "# Jeta = simplify(Jeta)\n",
    "\n",
    "# bouyancy in quaternions\n",
    "# W, B = symbols('W B', real=True)\n",
    "# fg = Matrix([0, 0, W])\n",
    "# fb = Matrix([0, 0, -B])\n",
    "# Rqinv = Rq.inv()\n",
    "# geta = Matrix([\n",
    "#     Rqinv*(fg+fb),\n",
    "#     skew(rg)*Rqinv*fg + skew(rb)*Rqinv*fb\n",
    "# ])\n",
    "W, B = symbols('W B', real=True)\n",
    "fg = Matrix([0, 0, W])\n",
    "fb = Matrix([0, 0, -B])\n",
    "R_euler_inv = R_euler.inv()\n",
    "geta = Matrix([\n",
    "    R_euler_inv*(fg+fb),\n",
    "    skew(rg)*R_euler_inv*fg + skew(rb)*R_euler_inv*fb\n",
    "])\n",
    "# geta = simplify(geta)"
   ]
  },
  {
   "cell_type": "code",
   "execution_count": 4,
   "metadata": {},
   "outputs": [
    {
     "output_type": "execute_result",
     "data": {
      "text/plain": [
       "⎡cos(ψ)⋅cos(θ)  sin(φ)⋅sin(θ)⋅cos(ψ) - sin(ψ)⋅cos(φ)  sin(φ)⋅sin(ψ) + sin(θ)⋅c\n",
       "⎢                                                                             \n",
       "⎢sin(ψ)⋅cos(θ)  sin(φ)⋅sin(ψ)⋅sin(θ) + cos(φ)⋅cos(ψ)  -sin(φ)⋅cos(ψ) + sin(ψ)⋅\n",
       "⎢                                                                             \n",
       "⎢   -sin(θ)                sin(φ)⋅cos(θ)                          cos(φ)⋅cos(θ\n",
       "⎢                                                                             \n",
       "⎢      0                         0                                      0     \n",
       "⎢                                                                             \n",
       "⎢      0                         0                                      0     \n",
       "⎢                                                                             \n",
       "⎢                                                                             \n",
       "⎢      0                         0                                      0     \n",
       "⎣                                                                             \n",
       "\n",
       "os(φ)⋅cos(ψ)   0        0              0      ⎤\n",
       "                                              ⎥\n",
       "sin(θ)⋅cos(φ)  0        0              0      ⎥\n",
       "                                              ⎥\n",
       ")              0        0              0      ⎥\n",
       "                                              ⎥\n",
       "               1  sin(φ)⋅tan(θ)  cos(φ)⋅tan(θ)⎥\n",
       "                                              ⎥\n",
       "               0     cos(φ)         -sin(φ)   ⎥\n",
       "                                              ⎥\n",
       "                     sin(φ)         cos(φ)    ⎥\n",
       "               0     ──────         ──────    ⎥\n",
       "                     cos(θ)         cos(θ)    ⎦"
      ],
      "text/latex": "$\\displaystyle \\left[\\begin{matrix}\\cos{\\left(\\psi \\right)} \\cos{\\left(\\theta \\right)} & \\sin{\\left(\\phi \\right)} \\sin{\\left(\\theta \\right)} \\cos{\\left(\\psi \\right)} - \\sin{\\left(\\psi \\right)} \\cos{\\left(\\phi \\right)} & \\sin{\\left(\\phi \\right)} \\sin{\\left(\\psi \\right)} + \\sin{\\left(\\theta \\right)} \\cos{\\left(\\phi \\right)} \\cos{\\left(\\psi \\right)} & 0 & 0 & 0\\\\\\sin{\\left(\\psi \\right)} \\cos{\\left(\\theta \\right)} & \\sin{\\left(\\phi \\right)} \\sin{\\left(\\psi \\right)} \\sin{\\left(\\theta \\right)} + \\cos{\\left(\\phi \\right)} \\cos{\\left(\\psi \\right)} & - \\sin{\\left(\\phi \\right)} \\cos{\\left(\\psi \\right)} + \\sin{\\left(\\psi \\right)} \\sin{\\left(\\theta \\right)} \\cos{\\left(\\phi \\right)} & 0 & 0 & 0\\\\- \\sin{\\left(\\theta \\right)} & \\sin{\\left(\\phi \\right)} \\cos{\\left(\\theta \\right)} & \\cos{\\left(\\phi \\right)} \\cos{\\left(\\theta \\right)} & 0 & 0 & 0\\\\0 & 0 & 0 & 1 & \\sin{\\left(\\phi \\right)} \\tan{\\left(\\theta \\right)} & \\cos{\\left(\\phi \\right)} \\tan{\\left(\\theta \\right)}\\\\0 & 0 & 0 & 0 & \\cos{\\left(\\phi \\right)} & - \\sin{\\left(\\phi \\right)}\\\\0 & 0 & 0 & 0 & \\frac{\\sin{\\left(\\phi \\right)}}{\\cos{\\left(\\theta \\right)}} & \\frac{\\cos{\\left(\\phi \\right)}}{\\cos{\\left(\\theta \\right)}}\\end{matrix}\\right]$"
     },
     "metadata": {},
     "execution_count": 4
    }
   ],
   "source": [
    "Jeta"
   ]
  },
  {
   "cell_type": "code",
   "execution_count": 5,
   "metadata": {},
   "outputs": [],
   "source": [
    "# thrust model\n",
    "Kt0, Kt1 = symbols('Kt0 Kt1', real=True)\n",
    "Kt = Matrix([Kt0, Kt1])\n",
    "Qt0, Qt1 = symbols('Qt0 Qt1', real=True)\n",
    "Qt = Matrix([Qt0, Qt1])\n",
    "\n",
    "# control inputs\n",
    "rpm0, rpm1 = symbols('rpm0 rpm1', real=True)\n",
    "rpm = Matrix([rpm0, rpm1])\n",
    "de, dr = symbols('de dr', real=True)\n",
    "control_vector = Matrix([rpm0, rpm1, de, dr])\n",
    "\n",
    "# control force vector\n",
    "Ft = Kt.dot(rpm)\n",
    "Mt = Qt.dot(rpm)\n",
    "\n",
    "# coefficient for each element in cost function\n",
    "tauc = Matrix([\n",
    "    Ft*cos(de)*cos(dr),\n",
    "    -Ft*sin(dr),\n",
    "    Ft*sin(de)*cos(dr),\n",
    "    Mt*cos(de)*cos(dr),\n",
    "    -Mt*sin(dr),\n",
    "    Mt*sin(de)*cos(dr)\n",
    "])"
   ]
  },
  {
   "cell_type": "code",
   "execution_count": 6,
   "metadata": {},
   "outputs": [],
   "source": [
    "etadot = Jeta*nu\n",
    "nudot = M.inv()*(tauc - (crb + D)*nu - geta)"
   ]
  },
  {
   "cell_type": "code",
   "execution_count": 7,
   "metadata": {},
   "outputs": [],
   "source": [
    "sdot = Matrix([\n",
    "   etadot,\n",
    "   nudot \n",
    "])"
   ]
  },
  {
   "cell_type": "code",
   "execution_count": null,
   "metadata": {},
   "outputs": [],
   "source": []
  },
  {
   "cell_type": "code",
   "execution_count": 8,
   "metadata": {},
   "outputs": [
    {
     "output_type": "stream",
     "name": "stdout",
     "text": [
      "([(x0, cos(psi)), (x1, cos(theta)), (x2, u*x1), (x3, sin(phi)), (x4, sin(psi)), (x5, x3*x4), (x6, sin(theta)), (x7, cos(phi)), (x8, x0*x7), (x9, x4*x7), (x10, x0*x3), (x11, x1*x3), (x12, x1*x7), (x13, tan(theta)), (x14, q*x3), (x15, r*x7), (x16, 1/x1), (x17, Yvv*Abs(v)), (x18, m*xg), (x19, p*x18), (x20, m*zg), (x21, r*x20), (x22, m*u), (x23, m*yg), (x24, r*x23), (x25, sin(dr)), (x26, Kt0*rpm0), (x27, Kt1*rpm1), (x28, m*w), (x29, -x28), (x30, p*x23), (x31, -B + W), (x32, x3**2), (x33, x6**2), (x34, x1**2), (x35, x7**2), (x36, 1/(x32*x33 + x32*x34 + x33*x35 + x34*x35)), (x37, x11*x36), (x38, -p*(x29 - x30) - q*(x19 + x21) - r*(x22 - x24) - v*x17 + x25*(-x26 - x27) - x31*x37), (x39, m**2), (x40, xg**4), (x41, x39*x40), (x42, yg**2), (x43, xg**2), (x44, x39*x43), (x45, x42*x44), (x46, zg**2), (x47, x44*x46), (x48, Iyy*Izz), (x49, Ixx*x48), (x50, Ixx*Izz), (x51, m*x50), (x52, m*x48), (x53, -x42*x52 - x43*x51 + x49), (x54, Ixx*Iyy), (x55, m*x54), (x56, -x43*x55 - x46*x52), (x57, Ixx*x41 + Iyy*x45 + Izz*x47 + x53 + x56), (x58, yg**4), (x59, x39*x58), (x60, x42*x46), (x61, x39*x60), (x62, -x42*x55 - x46*x51), (x63, Ixx*x45 + Iyy*x59 + Izz*x61 + x62), (x64, zg**4), (x65, x39*x64), (x66, Ixx*x47 + Iyy*x61 + Izz*x65), (x67, 1/(x57 + x63 + x66)), (x68, x54*yg), (x69, xg**3), (x70, Ixx*x69), (x71, yg**3), (x72, Iyy*m), (x73, x71*x72), (x74, Izz*x46), (x75, x23*x74), (x76, x67*(x23*x70 - x68*xg + x73*xg + x75*xg)), (x77, x50*zg), (x78, zg**3), (x79, Izz*x78), (x80, x20*x42), (x81, Iyy*x80), (x82, x18*x79 + x20*x70 - x77*xg + x81*xg), (x83, Zww*Abs(w)), (x84, m*v), (x85, p*x20), (x86, q*x23), (x87, sin(de)), (x88, cos(dr)), (x89, x88*(x26 + x27)), (x90, -x22), (x91, q*x20), (x92, x12*x36), (x93, -p*(x84 - x85) - q*(x90 - x91) - r*(x19 + x86) - w*x83 - x31*x92 + x87*x89), (x94, x67*x93), (x95, Xuu*Abs(u)), (x96, q*x18), (x97, cos(de)), (x98, -x84), (x99, r*x18), (x100, x6/(x33 + x34)), (x101, -p*(x21 + x86) - q*(x28 - x96) - r*(x98 - x99) - u*x95 + x100*x31 + x89*x97), (x102, m**3), (x103, Ixx*x102), (x104, Iyy*x102), (x105, Izz*x102), (x106, x39*x42), (x107, x39*x46), (x108, x103*x43), (x109, 1/(m*x49 + x103*x40 + x104*x42*x43 + x104*x58 + x104*x60 + x105*x43*x46 + x105*x60 + x105*x64 - x106*x48 - x106*x54 - x107*x48 - x107*x50 + x108*x42 + x108*x46 - x44*x50 - x44*x54)), (x110, Ixx*x43), (x111, x110*x23), (x112, Iyy*x23), (x113, -x111 - x112*x46 + x68 - x73), (x114, p*q), (x115, Qt0*rpm0), (x116, Qt1*rpm1), (x117, x88*(x115 + x116)), (x118, -x19), (x119, -x86), (x120, x67*(B*(x100*yb + x37*xb) + Ixx*x114 - Iyy*x114 - Nrr*r*Abs(r) - W*(x100*yg + x37*xg) - u*(x84 - x95*ycp + x99) - v*(x17*xcp + x24 + x90) - w*(x118 + x119) + x117*x87)), (x121, Izz*m), (x122, x121*x78), (x123, Izz*x80 + x110*x20 + x122 - x77), (x124, p*r), (x125, -x21), (x126, x67*(B*(-x100*zb - x92*xb) - Ixx*x124 + Izz*x124 - Mqq*q*Abs(q) - W*(-x100*zg - x92*xg) - u*(x29 + x95*zcp + x96) - v*(x118 + x125) - w*(x22 - x83*xcp + x91) + x25*(-x115 - x116))), (x127, x23*xg), (x128, Izz*x127), (x129, x128*zg), (x130, x112*xg*zg), (x131, x129 - x130), (x132, q*r), (x133, x67*(B*(-x37*zb + x92*yb) + Iyy*x132 - Izz*x132 - Kpp*p*Abs(p) - W*(-x37*zg + x92*yg) - u*(x119 + x125) - v*(-x17*zcp + x28 + x30) - w*(x83*ycp + x85 + x98) + x117*x97)), (x134, x48*zg), (x135, Iyy*x20), (x136, x111*zg - x134*yg + x135*x71 + x23*x79), (x137, Ixx*zg), (x138, x127*x137), (x139, -x129 + x138), (x140, Ixx*m), (x141, x140*x69), (x142, Ixx*x18), (x143, x42*x72), (x144, x141 + x142*x46 + x143*xg - x54*xg), (x145, -Izz*x20*x43 - x122 + x134 - x81), (x146, x101*x67), (x147, x38*x67), (x148, x130 - x138), (x149, -x141 - x142*x42 - x18*x74 + x50*xg), (x150, x112*x43 - x48*yg + x73 + x75), (x151, x39*xg), (x152, x39*x69), (x153, -x135*xg + x151*x42*zg + x151*x78 + x152*zg), (x154, -x128 + x151*x46*yg + x151*x71 + x152*yg), (x155, -x121*x46 + x45), (x156, -x143 + x47), (x157, -x137*x23 + x39*x71*zg + x39*x78*yg + x44*yg*zg), (x158, -x140*x43 + x61)], [Matrix([\n[                                                                        v*(x10*x6 - x9) + w*(x5 + x6*x8) + x0*x2],\n[                                                                       v*(x5*x6 + x8) + w*(-x10 + x6*x9) + x2*x4],\n[                                                                                           -u*x6 + v*x11 + w*x12],\n[                                                                                           p + x13*x14 + x13*x15],\n[                                                                                                     q*x7 - r*x3],\n[                                                                                               x14*x16 + x15*x16],\n[                                           x101*x109*x57 + x113*x120 + x123*x126 + x131*x133 + x38*x76 + x82*x94],\n[                                  x101*x76 + x109*x38*(x53 + x63) + x120*x144 + x126*x139 + x133*x145 + x136*x94],\n[                     x109*x93*(x49 + x56 + x62 + x66) + x120*x148 + x126*x149 + x133*x150 + x136*x147 + x146*x82],\n[ x120*x153 + x126*x154 + x131*x146 + x133*(-x121*x43 + x155 + x156 + x41 - x43*x72 + x48) + x145*x147 + x150*x94],\n[x120*x157 + x123*x146 + x126*(-x121*x42 - x140*x42 + x155 + x158 + x50 + x59) + x133*x154 + x139*x147 + x149*x94],\n[ x113*x146 + x120*(-x140*x46 + x156 + x158 - x46*x72 + x54 + x65) + x126*x157 + x133*x153 + x144*x147 + x148*x94]])])\n"
     ]
    }
   ],
   "source": [
    "print(cse(sdot))"
   ]
  },
  {
   "cell_type": "code",
   "execution_count": null,
   "metadata": {},
   "outputs": [],
   "source": []
  }
 ],
 "metadata": {
  "kernelspec": {
   "name": "python385jvsc74a57bd0916dbcbb3f70747c44a77c7bcd40155683ae19c65e1c03b4aa3499c5328201f1",
   "display_name": "Python 3.8.5 64-bit"
  },
  "language_info": {
   "codemirror_mode": {
    "name": "ipython",
    "version": 3
   },
   "file_extension": ".py",
   "mimetype": "text/x-python",
   "name": "python",
   "nbconvert_exporter": "python",
   "pygments_lexer": "ipython3",
   "version": "3.8.5"
  },
  "metadata": {
   "interpreter": {
    "hash": "916dbcbb3f70747c44a77c7bcd40155683ae19c65e1c03b4aa3499c5328201f1"
   }
  }
 },
 "nbformat": 4,
 "nbformat_minor": 2
}